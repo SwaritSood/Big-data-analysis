{
 "cells": [
  {
   "cell_type": "markdown",
   "metadata": {
    "collapsed": false,
    "deletable": true,
    "editable": true
   },
   "source": [
    "## Group 8"
   ]
  },
  {
   "cell_type": "markdown",
   "metadata": {
    "deletable": true,
    "editable": true
   },
   "source": [
    "1. Arjun Gupta    - 180010012\n",
    "2. Yash Chauhan   - 180010019\n",
    "3. Priyansh Patil - 180010044\n",
    "4. Samar Jain     - 180010052\n",
    "5. Swarit Sood    - 180010056"
   ]
  },
  {
   "cell_type": "code",
   "execution_count": 1,
   "metadata": {
    "collapsed": false,
    "deletable": true,
    "editable": true
   },
   "outputs": [
    {
     "name": "stdout",
     "output_type": "stream",
     "text": [
      "Populating the interactive namespace from numpy and matplotlib\n"
     ]
    }
   ],
   "source": [
    "%pylab inline\n",
    "%matplotlib inline\n",
    "import numpy as np\n",
    "import pandas as pd\n",
    "import seaborn as sns\n",
    "import matplotlib.pyplot as plt\n",
    "from ipywidgets import interact"
   ]
  },
  {
   "cell_type": "code",
   "execution_count": 2,
   "metadata": {
    "collapsed": false,
    "deletable": true,
    "editable": true
   },
   "outputs": [
    {
     "name": "stdout",
     "output_type": "stream",
     "text": [
      "c:\\samar\\academics\\sem_2\\ae102\\groupassignment\n"
     ]
    }
   ],
   "source": [
    "%cd C:\\Samar\\Academics\\Sem_2\\AE102\\GroupAssignment\n",
    "df = pd.read_csv('BlackFridayFinal.csv')"
   ]
  },
  {
   "cell_type": "markdown",
   "metadata": {
    "collapsed": false,
    "deletable": true,
    "editable": true
   },
   "source": [
    "As discussed during the presentation, there was some confusion as to which graphs use the number of people, which use the number of purchases and which use the amount purchased, we will clear each point using comments.\n",
    "\n",
    "The data itself contains 537577 entries, each of which is a separate purchase.\n",
    "There is a total of 6040 different people, the data is drawn from credit card information of users of a certain company (we know this because we looked at many notebooks corresponding to this dataset, but it is not explicitly mentioned with the data)\n",
    "\n",
    "(We also clipped off two extra columns from the actual data which depicted secondary and tertiary product categories since we could not efficiently analyze them)"
   ]
  },
  {
   "cell_type": "code",
   "execution_count": 3,
   "metadata": {
    "collapsed": false,
    "deletable": true,
    "editable": true
   },
   "outputs": [],
   "source": [
    "dfuser = df.drop(['Purchase', 'Product_Category', 'Product_ID'], axis = 1)\n",
    "dfuser = dfuser.drop_duplicates()"
   ]
  },
  {
   "cell_type": "markdown",
   "metadata": {
    "deletable": true,
    "editable": true
   },
   "source": [
    "We created the DataFrame 'dfuser' to have just the user's data like Gender, Age, etc irrespective of what they bought as some of our analysis looks at population analysis rather than the purchases"
   ]
  },
  {
   "cell_type": "code",
   "execution_count": 4,
   "metadata": {
    "collapsed": false,
    "deletable": true,
    "editable": true
   },
   "outputs": [
    {
     "data": {
      "text/html": [
       "<div>\n",
       "<style>\n",
       "    .dataframe thead tr:only-child th {\n",
       "        text-align: right;\n",
       "    }\n",
       "\n",
       "    .dataframe thead th {\n",
       "        text-align: left;\n",
       "    }\n",
       "\n",
       "    .dataframe tbody tr th {\n",
       "        vertical-align: top;\n",
       "    }\n",
       "</style>\n",
       "<table border=\"1\" class=\"dataframe\">\n",
       "  <thead>\n",
       "    <tr style=\"text-align: right;\">\n",
       "      <th></th>\n",
       "      <th>User_ID</th>\n",
       "      <th>Product_ID</th>\n",
       "      <th>Gender</th>\n",
       "      <th>Age</th>\n",
       "      <th>Occupation</th>\n",
       "      <th>City_Category</th>\n",
       "      <th>Stay_In_Current_City_Years</th>\n",
       "      <th>Marital_Status</th>\n",
       "      <th>Product_Category</th>\n",
       "      <th>Purchase</th>\n",
       "    </tr>\n",
       "  </thead>\n",
       "  <tbody>\n",
       "    <tr>\n",
       "      <th>0</th>\n",
       "      <td>1000001</td>\n",
       "      <td>P00069042</td>\n",
       "      <td>F</td>\n",
       "      <td>0-17</td>\n",
       "      <td>10</td>\n",
       "      <td>A</td>\n",
       "      <td>2</td>\n",
       "      <td>0</td>\n",
       "      <td>3</td>\n",
       "      <td>83.70</td>\n",
       "    </tr>\n",
       "    <tr>\n",
       "      <th>1</th>\n",
       "      <td>1000001</td>\n",
       "      <td>P00248942</td>\n",
       "      <td>F</td>\n",
       "      <td>0-17</td>\n",
       "      <td>10</td>\n",
       "      <td>A</td>\n",
       "      <td>2</td>\n",
       "      <td>0</td>\n",
       "      <td>1</td>\n",
       "      <td>152.00</td>\n",
       "    </tr>\n",
       "    <tr>\n",
       "      <th>2</th>\n",
       "      <td>1000001</td>\n",
       "      <td>P00087842</td>\n",
       "      <td>F</td>\n",
       "      <td>0-17</td>\n",
       "      <td>10</td>\n",
       "      <td>A</td>\n",
       "      <td>2</td>\n",
       "      <td>0</td>\n",
       "      <td>12</td>\n",
       "      <td>14.22</td>\n",
       "    </tr>\n",
       "    <tr>\n",
       "      <th>3</th>\n",
       "      <td>1000001</td>\n",
       "      <td>P00085442</td>\n",
       "      <td>F</td>\n",
       "      <td>0-17</td>\n",
       "      <td>10</td>\n",
       "      <td>A</td>\n",
       "      <td>2</td>\n",
       "      <td>0</td>\n",
       "      <td>12</td>\n",
       "      <td>10.57</td>\n",
       "    </tr>\n",
       "    <tr>\n",
       "      <th>4</th>\n",
       "      <td>1000002</td>\n",
       "      <td>P00285442</td>\n",
       "      <td>M</td>\n",
       "      <td>55+</td>\n",
       "      <td>16</td>\n",
       "      <td>C</td>\n",
       "      <td>4+</td>\n",
       "      <td>0</td>\n",
       "      <td>8</td>\n",
       "      <td>79.69</td>\n",
       "    </tr>\n",
       "  </tbody>\n",
       "</table>\n",
       "</div>"
      ],
      "text/plain": [
       "   User_ID Product_ID Gender   Age  Occupation City_Category  \\\n",
       "0  1000001  P00069042      F  0-17          10             A   \n",
       "1  1000001  P00248942      F  0-17          10             A   \n",
       "2  1000001  P00087842      F  0-17          10             A   \n",
       "3  1000001  P00085442      F  0-17          10             A   \n",
       "4  1000002  P00285442      M   55+          16             C   \n",
       "\n",
       "  Stay_In_Current_City_Years  Marital_Status  Product_Category  Purchase  \n",
       "0                          2               0                 3     83.70  \n",
       "1                          2               0                 1    152.00  \n",
       "2                          2               0                12     14.22  \n",
       "3                          2               0                12     10.57  \n",
       "4                         4+               0                 8     79.69  "
      ]
     },
     "execution_count": 4,
     "metadata": {},
     "output_type": "execute_result"
    }
   ],
   "source": [
    "df.head()"
   ]
  },
  {
   "cell_type": "code",
   "execution_count": 5,
   "metadata": {
    "collapsed": false,
    "deletable": true,
    "editable": true
   },
   "outputs": [
    {
     "data": {
      "text/html": [
       "<div>\n",
       "<style>\n",
       "    .dataframe thead tr:only-child th {\n",
       "        text-align: right;\n",
       "    }\n",
       "\n",
       "    .dataframe thead th {\n",
       "        text-align: left;\n",
       "    }\n",
       "\n",
       "    .dataframe tbody tr th {\n",
       "        vertical-align: top;\n",
       "    }\n",
       "</style>\n",
       "<table border=\"1\" class=\"dataframe\">\n",
       "  <thead>\n",
       "    <tr style=\"text-align: right;\">\n",
       "      <th></th>\n",
       "      <th>User_ID</th>\n",
       "      <th>Gender</th>\n",
       "      <th>Age</th>\n",
       "      <th>Occupation</th>\n",
       "      <th>City_Category</th>\n",
       "      <th>Stay_In_Current_City_Years</th>\n",
       "      <th>Marital_Status</th>\n",
       "    </tr>\n",
       "  </thead>\n",
       "  <tbody>\n",
       "    <tr>\n",
       "      <th>0</th>\n",
       "      <td>1000001</td>\n",
       "      <td>F</td>\n",
       "      <td>0-17</td>\n",
       "      <td>10</td>\n",
       "      <td>A</td>\n",
       "      <td>2</td>\n",
       "      <td>0</td>\n",
       "    </tr>\n",
       "    <tr>\n",
       "      <th>4</th>\n",
       "      <td>1000002</td>\n",
       "      <td>M</td>\n",
       "      <td>55+</td>\n",
       "      <td>16</td>\n",
       "      <td>C</td>\n",
       "      <td>4+</td>\n",
       "      <td>0</td>\n",
       "    </tr>\n",
       "    <tr>\n",
       "      <th>5</th>\n",
       "      <td>1000003</td>\n",
       "      <td>M</td>\n",
       "      <td>26-35</td>\n",
       "      <td>15</td>\n",
       "      <td>A</td>\n",
       "      <td>3</td>\n",
       "      <td>0</td>\n",
       "    </tr>\n",
       "    <tr>\n",
       "      <th>6</th>\n",
       "      <td>1000004</td>\n",
       "      <td>M</td>\n",
       "      <td>46-50</td>\n",
       "      <td>7</td>\n",
       "      <td>B</td>\n",
       "      <td>2</td>\n",
       "      <td>1</td>\n",
       "    </tr>\n",
       "    <tr>\n",
       "      <th>9</th>\n",
       "      <td>1000005</td>\n",
       "      <td>M</td>\n",
       "      <td>26-35</td>\n",
       "      <td>20</td>\n",
       "      <td>A</td>\n",
       "      <td>1</td>\n",
       "      <td>1</td>\n",
       "    </tr>\n",
       "  </tbody>\n",
       "</table>\n",
       "</div>"
      ],
      "text/plain": [
       "   User_ID Gender    Age  Occupation City_Category Stay_In_Current_City_Years  \\\n",
       "0  1000001      F   0-17          10             A                          2   \n",
       "4  1000002      M    55+          16             C                         4+   \n",
       "5  1000003      M  26-35          15             A                          3   \n",
       "6  1000004      M  46-50           7             B                          2   \n",
       "9  1000005      M  26-35          20             A                          1   \n",
       "\n",
       "   Marital_Status  \n",
       "0               0  \n",
       "4               0  \n",
       "5               0  \n",
       "6               1  \n",
       "9               1  "
      ]
     },
     "execution_count": 5,
     "metadata": {},
     "output_type": "execute_result"
    }
   ],
   "source": [
    "dfuser.head()"
   ]
  },
  {
   "cell_type": "markdown",
   "metadata": {
    "deletable": true,
    "editable": true
   },
   "source": [
    "# Analysing with respect to age of customers "
   ]
  },
  {
   "cell_type": "markdown",
   "metadata": {
    "deletable": true,
    "editable": true
   },
   "source": [
    "(Mostly coded by Arjun)"
   ]
  },
  {
   "cell_type": "code",
   "execution_count": 6,
   "metadata": {
    "collapsed": false,
    "deletable": true,
    "editable": true
   },
   "outputs": [
    {
     "data": {
      "text/plain": [
       "<matplotlib.text.Text at 0x16edbfbe2b0>"
      ]
     },
     "execution_count": 6,
     "metadata": {},
     "output_type": "execute_result"
    },
    {
     "data": {
      "image/png": "[encoded data removed]",
      "text/plain": [
       "<matplotlib.figure.Figure at 0x16edbf8ff98>"
      ]
     },
     "metadata": {},
     "output_type": "display_data"
    }
   ],
   "source": [
    "# Pie chart depicting a demographic of age among the users, notice that we have used dfuser DataFrame\n",
    "dfuser['Age'].value_counts().plot(kind='pie', autopct = '%1.2f%%', pctdistance=.73, \n",
    "                                labeldistance=1.1, radius=1.5, startangle=90, \n",
    "                                explode=(.05, .05, .05,.5,.05,.05,.5),\n",
    "                                shadow=True, textprops={'fontsize':14},)\n",
    "ylabel('Age', labelpad=75, fontsize=15)"
   ]
  },
  {
   "cell_type": "code",
   "execution_count": 7,
   "metadata": {
    "collapsed": false,
    "deletable": true,
    "editable": true
   },
   "outputs": [
    {
     "name": "stdout",
     "output_type": "stream",
     "text": [
      "[1326590.0600000001, 9016692.8000000007, 19997491.060000002, 10106495.650000002, 4134182.23, 3619083.5600000001, 1976148.4199999999]\n"
     ]
    },
    {
     "data": {
      "text/html": [
       "<div>\n",
       "<style>\n",
       "    .dataframe thead tr:only-child th {\n",
       "        text-align: right;\n",
       "    }\n",
       "\n",
       "    .dataframe thead th {\n",
       "        text-align: left;\n",
       "    }\n",
       "\n",
       "    .dataframe tbody tr th {\n",
       "        vertical-align: top;\n",
       "    }\n",
       "</style>\n",
       "<table border=\"1\" class=\"dataframe\">\n",
       "  <thead>\n",
       "    <tr style=\"text-align: right;\">\n",
       "      <th></th>\n",
       "      <th>Purchase</th>\n",
       "      <th>age</th>\n",
       "    </tr>\n",
       "  </thead>\n",
       "  <tbody>\n",
       "    <tr>\n",
       "      <th>0</th>\n",
       "      <td>1326590.06</td>\n",
       "      <td>0-17</td>\n",
       "    </tr>\n",
       "    <tr>\n",
       "      <th>1</th>\n",
       "      <td>9016692.80</td>\n",
       "      <td>18-25</td>\n",
       "    </tr>\n",
       "    <tr>\n",
       "      <th>2</th>\n",
       "      <td>19997491.06</td>\n",
       "      <td>26-35</td>\n",
       "    </tr>\n",
       "    <tr>\n",
       "      <th>3</th>\n",
       "      <td>10106495.65</td>\n",
       "      <td>36-45</td>\n",
       "    </tr>\n",
       "    <tr>\n",
       "      <th>4</th>\n",
       "      <td>4134182.23</td>\n",
       "      <td>46-50</td>\n",
       "    </tr>\n",
       "    <tr>\n",
       "      <th>5</th>\n",
       "      <td>3619083.56</td>\n",
       "      <td>51-55</td>\n",
       "    </tr>\n",
       "    <tr>\n",
       "      <th>6</th>\n",
       "      <td>1976148.42</td>\n",
       "      <td>55+</td>\n",
       "    </tr>\n",
       "  </tbody>\n",
       "</table>\n",
       "</div>"
      ],
      "text/plain": [
       "      Purchase    age\n",
       "0   1326590.06   0-17\n",
       "1   9016692.80  18-25\n",
       "2  19997491.06  26-35\n",
       "3  10106495.65  36-45\n",
       "4   4134182.23  46-50\n",
       "5   3619083.56  51-55\n",
       "6   1976148.42    55+"
      ]
     },
     "execution_count": 7,
     "metadata": {},
     "output_type": "execute_result"
    },
    {
     "data": {
      "image/png": "[encoded data removed]",
      "text/plain": [
       "<matplotlib.figure.Figure at 0x16edbf8f080>"
      ]
     },
     "metadata": {},
     "output_type": "display_data"
    }
   ],
   "source": [
    "# Bar chart showing the amount of purchase done by the users, grouped according to age\n",
    "age=['0-17','18-25', '26-35','36-45','46-50','51-55','55+']\n",
    "purc=[]\n",
    "for i in age:\n",
    "    sump=sum(df[df['Age']==i]['Purchase'])\n",
    "    purc.append(sump)\n",
    "print(purc)\n",
    "df_purc=pd.DataFrame({'age':age,'Purchase':purc})\n",
    "df_purc.plot.bar(figsize = (10, 6), x = 'age')\n",
    "df_purc"
   ]
  },
  {
   "cell_type": "code",
   "execution_count": 8,
   "metadata": {
    "collapsed": false,
    "deletable": true,
    "editable": true
   },
   "outputs": [
    {
     "name": "stdout",
     "output_type": "stream",
     "text": [
      "[90.201268783572459, 92.351975746154011, 93.145889701429979, 94.014787579419362, 92.848722768719398, 96.20616619703334, 94.53898579151317]\n"
     ]
    },
    {
     "data": {
      "text/html": [
       "<div>\n",
       "<style>\n",
       "    .dataframe thead tr:only-child th {\n",
       "        text-align: right;\n",
       "    }\n",
       "\n",
       "    .dataframe thead th {\n",
       "        text-align: left;\n",
       "    }\n",
       "\n",
       "    .dataframe tbody tr th {\n",
       "        vertical-align: top;\n",
       "    }\n",
       "</style>\n",
       "<table border=\"1\" class=\"dataframe\">\n",
       "  <thead>\n",
       "    <tr style=\"text-align: right;\">\n",
       "      <th></th>\n",
       "      <th>Purchase</th>\n",
       "      <th>age</th>\n",
       "    </tr>\n",
       "  </thead>\n",
       "  <tbody>\n",
       "    <tr>\n",
       "      <th>0</th>\n",
       "      <td>90.201269</td>\n",
       "      <td>0-17</td>\n",
       "    </tr>\n",
       "    <tr>\n",
       "      <th>1</th>\n",
       "      <td>92.351976</td>\n",
       "      <td>18-25</td>\n",
       "    </tr>\n",
       "    <tr>\n",
       "      <th>2</th>\n",
       "      <td>93.145890</td>\n",
       "      <td>26-35</td>\n",
       "    </tr>\n",
       "    <tr>\n",
       "      <th>3</th>\n",
       "      <td>94.014788</td>\n",
       "      <td>36-45</td>\n",
       "    </tr>\n",
       "    <tr>\n",
       "      <th>4</th>\n",
       "      <td>92.848723</td>\n",
       "      <td>46-50</td>\n",
       "    </tr>\n",
       "    <tr>\n",
       "      <th>5</th>\n",
       "      <td>96.206166</td>\n",
       "      <td>51-55</td>\n",
       "    </tr>\n",
       "    <tr>\n",
       "      <th>6</th>\n",
       "      <td>94.538986</td>\n",
       "      <td>55+</td>\n",
       "    </tr>\n",
       "  </tbody>\n",
       "</table>\n",
       "</div>"
      ],
      "text/plain": [
       "    Purchase    age\n",
       "0  90.201269   0-17\n",
       "1  92.351976  18-25\n",
       "2  93.145890  26-35\n",
       "3  94.014788  36-45\n",
       "4  92.848723  46-50\n",
       "5  96.206166  51-55\n",
       "6  94.538986    55+"
      ]
     },
     "execution_count": 8,
     "metadata": {},
     "output_type": "execute_result"
    },
    {
     "data": {
      "image/png": "[encoded data removed]",
      "text/plain": [
       "<matplotlib.figure.Figure at 0x16edc42a978>"
      ]
     },
     "metadata": {},
     "output_type": "display_data"
    }
   ],
   "source": [
    "# Initially we thought that the age group 26-35 were the higher spenders and should be targeted to increase sales\n",
    "# But it is actually the size of their population that leads to high purchase, not due to the virtue of their age\n",
    "# As depicted below, the mean purchases of all age groups are nearly the same\n",
    "age=['0-17','18-25', '26-35','36-45','46-50','51-55','55+']\n",
    "meanpurc=[]\n",
    "for i in age:\n",
    "    sump=mean(df[df['Age']==i]['Purchase'])\n",
    "    meanpurc.append(sump)\n",
    "print(meanpurc)\n",
    "df_meanpurc=pd.DataFrame({'age':age,'Purchase':meanpurc})\n",
    "df_meanpurc.plot.bar(figsize = (10, 6), x = 'age', color = 'g')\n",
    "df_meanpurc"
   ]
  },
  {
   "cell_type": "code",
   "execution_count": 9,
   "metadata": {
    "collapsed": false,
    "deletable": true,
    "editable": true
   },
   "outputs": [
    {
     "data": {
      "image/png": "[encoded data removed]",
      "text/plain": [
       "<matplotlib.figure.Figure at 0x16edc531358>"
      ]
     },
     "metadata": {},
     "output_type": "display_data"
    }
   ],
   "source": [
    "# Boxplots show that they even vary similarly, so it's not that different age groups behave differently\n",
    "col = ['0-17', '18-25', '26-35', '36-45', '46-50', '51-55', '55+']\n",
    "fig, axs = plt.subplots(1, 7, sharey=True, figsize = (10, 6))\n",
    "for i in range(7):\n",
    "    df[df.Age == col[i]].boxplot(by='Age', column=['Purchase'], ax = axs[i])"
   ]
  },
  {
   "cell_type": "code",
   "execution_count": 10,
   "metadata": {
    "collapsed": false,
    "deletable": true,
    "editable": true
   },
   "outputs": [
    {
     "data": {
      "application/vnd.jupyter.widget-view+json": {
       "model_id": "c87c50d2a18d4b8ca13c911e51fd3cd5"
      }
     },
     "metadata": {},
     "output_type": "display_data"
    },
    {
     "data": {
      "text/plain": [
       "<function __main__.Age_Group>"
      ]
     },
     "execution_count": 10,
     "metadata": {},
     "output_type": "execute_result"
    }
   ],
   "source": [
    "# Observing how the other categories are affected with age\n",
    "def Age_Group(x):\n",
    "    dfuser[dfuser['Age']==x].hist(figsize= (16, 6), column=['Marital_Status', 'Occupation'], grid=False, bins=25)\n",
    "    df[df['Age']==x].hist(figsize= (16, 6), column=['Product_Category', 'Purchase'], grid=False, bins=25)\n",
    "    plt.show()\n",
    "interact(Age_Group, x={'0-17','18-25','26-35','36-45','46-50','51-55','55+'})\n",
    "# Note : The purchase graph - xaxis = cost of product, yaxis = number of products bought"
   ]
  },
  {
   "cell_type": "markdown",
   "metadata": {
    "deletable": true,
    "editable": true
   },
   "source": [
    "# Looking at Gender and Marital Status"
   ]
  },
  {
   "cell_type": "markdown",
   "metadata": {
    "deletable": true,
    "editable": true
   },
   "source": [
    "(Mostly coded by Priyansh)"
   ]
  },
  {
   "cell_type": "code",
   "execution_count": 11,
   "metadata": {
    "collapsed": false,
    "deletable": true,
    "editable": true
   },
   "outputs": [
    {
     "data": {
      "image/png": "[encoded data removed]",
      "text/plain": [
       "<matplotlib.figure.Figure at 0x16edbf8fd30>"
      ]
     },
     "metadata": {},
     "output_type": "display_data"
    }
   ],
   "source": [
    "dfuser[\"Gender\"].value_counts().plot.bar(color = ['green'], alpha = 0.5)\n",
    "plt.show()\n",
    "# Just looking at the population of shoppers according to gender"
   ]
  },
  {
   "cell_type": "markdown",
   "metadata": {
    "deletable": true,
    "editable": true
   },
   "source": [
    "The sex ratio of US is 97.9 males per 100 females\n",
    "So there is a strong correlation between gender and sales which could happen due to\n",
    "1. The fact that males are more resilient and can shop easily compared to women in the rough environment of a Black Friday\n",
    "2. Women perhaps asking their spouses to get the stuff for them"
   ]
  },
  {
   "cell_type": "code",
   "execution_count": 12,
   "metadata": {
    "collapsed": false,
    "deletable": true,
    "editable": true
   },
   "outputs": [
    {
     "data": {
      "text/plain": [
       "<Container object of 2 artists>"
      ]
     },
     "execution_count": 12,
     "metadata": {},
     "output_type": "execute_result"
    },
    {
     "data": {
      "image/png": "[encoded data removed]",
      "text/plain": [
       "<matplotlib.figure.Figure at 0x16edc804f28>"
      ]
     },
     "metadata": {},
     "output_type": "display_data"
    }
   ],
   "source": [
    "genderspend = []\n",
    "gender = ['M', 'F']\n",
    "genderval = [0, 1]\n",
    "for i in range(2):\n",
    "    gpurch = df[df['Gender'] == gender[i]]['Purchase'].sum()\n",
    "    genderspend.append(gpurch)\n",
    "plt.xticks([0, 1])\n",
    "plt.bar(genderval, genderspend, color = ['b', 'pink'], alpha = 0.5)\n",
    "# How much does each gender spend at a Black Friday"
   ]
  },
  {
   "cell_type": "code",
   "execution_count": 13,
   "metadata": {
    "collapsed": false,
    "deletable": true,
    "editable": true
   },
   "outputs": [
    {
     "data": {
      "text/plain": [
       "<matplotlib.axes._subplots.AxesSubplot at 0x16edca23080>"
      ]
     },
     "execution_count": 13,
     "metadata": {},
     "output_type": "execute_result"
    },
    {
     "data": {
      "image/png": "[encoded data removed]",
      "text/plain": [
       "<matplotlib.figure.Figure at 0x16edc5dfda0>"
      ]
     },
     "metadata": {},
     "output_type": "display_data"
    }
   ],
   "source": [
    "sns.countplot(dfuser['Age'],hue=dfuser['Gender'])\n",
    "#Show the counts of observations in each categorical bin using bars\n",
    "#hue input determines how the data will be plotted(here we have plotted it gender-wise)\n",
    "#here two bar graphs of two genders on the same plot will be plotted"
   ]
  },
  {
   "cell_type": "code",
   "execution_count": 14,
   "metadata": {
    "collapsed": false,
    "deletable": true,
    "editable": true
   },
   "outputs": [
    {
     "name": "stdout",
     "output_type": "stream",
     "text": [
      "['F_0' 'M_0' 'M_1' 'F_1']\n"
     ]
    },
    {
     "data": {
      "text/plain": [
       "<matplotlib.axes._subplots.AxesSubplot at 0x16eeafb44a8>"
      ]
     },
     "execution_count": 14,
     "metadata": {},
     "output_type": "execute_result"
    },
    {
     "data": {
      "image/png": "[encoded data removed]",
      "text/plain": [
       "<matplotlib.figure.Figure at 0x16edce1cac8>"
      ]
     },
     "metadata": {},
     "output_type": "display_data"
    }
   ],
   "source": [
    "# Gender, marital status and product categories\n",
    "df['combined_G_M'] = df.apply(lambda x:'%s_%s' % (x['Gender'],x['Marital_Status']),axis=1)\n",
    "#lambda is a function to define anonymus function i.e a fn without a name and  can have any number of arguments\n",
    "#but only one expression, which is evaluated and returned.\n",
    "#the code basically means we have defined a 'combined_G_M' object\n",
    "\n",
    "#results 4 categories: married male , married female , unmarried male , unmarried female\n",
    "\n",
    "print(df['combined_G_M'].unique())\n",
    "#unique() returns unique values of Series object\n",
    "\n",
    "sns.countplot(df['Age'],hue=df['combined_G_M'])\n",
    "#plots all the four categories of 'combined_G_M' object versus age"
   ]
  },
  {
   "cell_type": "markdown",
   "metadata": {
    "deletable": true,
    "editable": true
   },
   "source": [
    "So it is actually mostly bachelors who shop at Black Friday, so our spouse conclusion might be wrong. As sir mentioned, Black Friday focuses a lot on electronics and thus we see that bachelor males shop the most (in the age group 0-45 which is huge!)"
   ]
  },
  {
   "cell_type": "markdown",
   "metadata": {
    "deletable": true,
    "editable": true
   },
   "source": [
    "# Occupation"
   ]
  },
  {
   "cell_type": "markdown",
   "metadata": {
    "deletable": true,
    "editable": true
   },
   "source": [
    "(Mostly coded by Yash)"
   ]
  },
  {
   "cell_type": "code",
   "execution_count": 15,
   "metadata": {
    "collapsed": true,
    "deletable": true,
    "editable": true
   },
   "outputs": [],
   "source": [
    "def mean_Occupation(o): # Finding the mean and median expenditures of people of each occupation\n",
    "    dfi=df[df.Occupation==o]\n",
    "    return dfi.Purchase.mean()\n",
    "def median_Occupation(o):\n",
    "    dfi=df[df.Occupation== o]\n",
    "    return dfi.Purchase.median()"
   ]
  },
  {
   "cell_type": "code",
   "execution_count": 16,
   "metadata": {
    "collapsed": true,
    "deletable": true,
    "editable": true
   },
   "outputs": [],
   "source": [
    "dfx=pd.DataFrame(columns=['Mean'])\n",
    "for i in range(21):\n",
    "    dfx.loc[i]=(pd.to_numeric(mean_Occupation(i)))\n",
    "dfz=pd.DataFrame(columns=['Median'])\n",
    "for i in range(21):\n",
    "    dfz.loc[i]=(pd.to_numeric(median_Occupation(i)))\n",
    "dfn=pd.DataFrame(columns=['Value'])\n",
    "for i in range(21):\n",
    "    dfn.loc[i]=((df['Occupation'].value_counts())[i]*dfx.Mean[i]/1000)"
   ]
  },
  {
   "cell_type": "code",
   "execution_count": 17,
   "metadata": {
    "collapsed": false,
    "deletable": true,
    "editable": true
   },
   "outputs": [
    {
     "data": {
      "text/plain": [
       "<matplotlib.text.Text at 0x16edd2f6f60>"
      ]
     },
     "execution_count": 17,
     "metadata": {},
     "output_type": "execute_result"
    },
    {
     "data": {
      "image/png": "[encoded data removed]",
      "text/plain": [
       "<matplotlib.figure.Figure at 0x16edca2a9b0>"
      ]
     },
     "metadata": {},
     "output_type": "display_data"
    }
   ],
   "source": [
    "figure(figsize=(12,20))\n",
    "\n",
    "subplot(4,1,1)\n",
    "ylim(80,100)\n",
    "xticks(np.arange(0,21))\n",
    "plt.plot(dfx['Mean'], 'o')\n",
    "plt.title('Mean purchase in $ by customer in each occupation')\n",
    "\n",
    "subplot(4,1,2)\n",
    "xticks(np.arange(0,21))\n",
    "ylim(70,100)\n",
    "plt.plot(dfz['Median'], 'o', color='r')\n",
    "plt.title('Median purchase in $ by customer in each occupation')\n",
    "\n",
    "subplot(4,1,3)\n",
    "df['Occupation'].value_counts().plot('bar')\n",
    "plt.title('No. of Buyers from each occupation')\n",
    "\n",
    "subplot(4,1,4)\n",
    "dfn['Value'].plot('bar')\n",
    "plt.title('Importance of each Occupation group in terms of Total Purchase Value in k$')\n",
    "\n",
    "#Changed the line plots to scatter plots as sir told"
   ]
  },
  {
   "cell_type": "code",
   "execution_count": 18,
   "metadata": {
    "collapsed": false,
    "deletable": true,
    "editable": true
   },
   "outputs": [
    {
     "data": {
      "application/vnd.jupyter.widget-view+json": {
       "model_id": "ca89d2f3843b429fb892846e32afc112"
      }
     },
     "metadata": {},
     "output_type": "display_data"
    },
    {
     "data": {
      "text/plain": [
       "<function __main__.Product_dist>"
      ]
     },
     "execution_count": 18,
     "metadata": {},
     "output_type": "execute_result"
    }
   ],
   "source": [
    "# Interactive plot to show which product categories interest which occupations\n",
    "def Product_dist(p):\n",
    "    figure(figsize=(8,6))\n",
    "    plt.subplot(1,1,1)\n",
    "    plt.ylim=(0,20000)\n",
    "    (df[df.Product_Category==p])['Occupation'].value_counts().plot('bar')\n",
    "    plt.show()\n",
    "interact(Product_dist,p=(1,18,1))"
   ]
  },
  {
   "cell_type": "markdown",
   "metadata": {
    "deletable": true,
    "editable": true
   },
   "source": [
    "# City Category and Years of Stay"
   ]
  },
  {
   "cell_type": "markdown",
   "metadata": {
    "deletable": true,
    "editable": true
   },
   "source": [
    "(Mostly coded by Swarit)"
   ]
  },
  {
   "cell_type": "code",
   "execution_count": 19,
   "metadata": {
    "collapsed": false,
    "deletable": true,
    "editable": true
   },
   "outputs": [
    {
     "data": {
      "text/plain": [
       "<matplotlib.axes._subplots.AxesSubplot at 0x16edc477630>"
      ]
     },
     "execution_count": 19,
     "metadata": {},
     "output_type": "execute_result"
    },
    {
     "data": {
      "image/png": "[encoded data removed]",
      "text/plain": [
       "<matplotlib.figure.Figure at 0x16ee05d2198>"
      ]
     },
     "metadata": {},
     "output_type": "display_data"
    }
   ],
   "source": [
    "df['City_Category'].value_counts().plot(kind='pie', autopct='%0.2f')"
   ]
  },
  {
   "cell_type": "code",
   "execution_count": 20,
   "metadata": {
    "collapsed": false,
    "deletable": true,
    "editable": true
   },
   "outputs": [
    {
     "data": {
      "text/plain": [
       "<matplotlib.axes._subplots.AxesSubplot at 0x16edc9cf3c8>"
      ]
     },
     "execution_count": 20,
     "metadata": {},
     "output_type": "execute_result"
    },
    {
     "data": {
      "image/png": "[encoded data removed]",
      "text/plain": [
       "<matplotlib.figure.Figure at 0x16edc982320>"
      ]
     },
     "metadata": {},
     "output_type": "display_data"
    }
   ],
   "source": [
    "dfuser['City_Category'].value_counts().plot(kind='pie', autopct='%0.2f')\n",
    "# The two pie charts show the difference between number of products bought vs the actual number of people who come to shop"
   ]
  },
  {
   "cell_type": "code",
   "execution_count": 21,
   "metadata": {
    "collapsed": false,
    "deletable": true,
    "editable": true
   },
   "outputs": [
    {
     "data": {
      "text/plain": [
       "<matplotlib.axes._subplots.AxesSubplot at 0x16edc804278>"
      ]
     },
     "execution_count": 21,
     "metadata": {},
     "output_type": "execute_result"
    },
    {
     "data": {
      "image/png": "[encoded data removed]",
      "text/plain": [
       "<matplotlib.figure.Figure at 0x16edc923198>"
      ]
     },
     "metadata": {},
     "output_type": "display_data"
    }
   ],
   "source": [
    "dfuser['Stay_In_Current_City_Years'].value_counts().plot(kind = 'pie', autopct='%0.2f')"
   ]
  },
  {
   "cell_type": "code",
   "execution_count": 22,
   "metadata": {
    "collapsed": false,
    "deletable": true,
    "editable": true
   },
   "outputs": [
    {
     "data": {
      "application/vnd.jupyter.widget-view+json": {
       "model_id": "a572fbfb265841469567c070869f731b"
      }
     },
     "metadata": {},
     "output_type": "display_data"
    },
    {
     "data": {
      "text/plain": [
       "<function __main__.bars_yrs>"
      ]
     },
     "execution_count": 22,
     "metadata": {},
     "output_type": "execute_result"
    }
   ],
   "source": [
    "# Variation of product category with years of stay\n",
    "def bars_yrs(x):\n",
    "    data=df[df['Stay_In_Current_City_Years']==x]\n",
    "    data['Product_Category'].value_counts().plot(kind='bar')\n",
    "    plt.show()\n",
    "interact(bars_yrs,x=['0','1','2','3','4+'])"
   ]
  },
  {
   "cell_type": "code",
   "execution_count": 23,
   "metadata": {
    "collapsed": false,
    "deletable": true,
    "editable": true
   },
   "outputs": [
    {
     "data": {
      "application/vnd.jupyter.widget-view+json": {
       "model_id": "3ef9c1dbd4564bdeb163d92e61b50eca"
      }
     },
     "metadata": {},
     "output_type": "display_data"
    },
    {
     "data": {
      "text/plain": [
       "<function __main__.bars_city>"
      ]
     },
     "execution_count": 23,
     "metadata": {},
     "output_type": "execute_result"
    }
   ],
   "source": [
    "# Variation of product category with city category\n",
    "def bars_city(x):\n",
    "    data=df[df['City_Category']==x]\n",
    "    data['Product_Category'].value_counts().plot(kind='bar')\n",
    "    plt.show()\n",
    "interact(bars_city,x=['A','B','C'])"
   ]
  },
  {
   "cell_type": "code",
   "execution_count": 24,
   "metadata": {
    "collapsed": false,
    "deletable": true,
    "editable": true
   },
   "outputs": [
    {
     "data": {
      "application/vnd.jupyter.widget-view+json": {
       "model_id": "841bb44e8dd642efbff10a3754cb4ce3"
      }
     },
     "metadata": {},
     "output_type": "display_data"
    },
    {
     "data": {
      "text/plain": [
       "<function __main__.bars_city_age>"
      ]
     },
     "execution_count": 24,
     "metadata": {},
     "output_type": "execute_result"
    }
   ],
   "source": [
    "# How city category affects the age demographic\n",
    "def bars_city_age(x):\n",
    "    dfA=dfuser[dfuser['City_Category']==x]\n",
    "    dfA['Age'].value_counts().plot(kind='bar')\n",
    "    plt.show()\n",
    "interact(bars_city_age,x=['A','B','C'])"
   ]
  },
  {
   "cell_type": "code",
   "execution_count": 25,
   "metadata": {
    "collapsed": false,
    "deletable": true,
    "editable": true
   },
   "outputs": [
    {
     "name": "stdout",
     "output_type": "stream",
     "text": [
      "[12956687.970000003, 20834316.120000005, 16385679.690000003]\n"
     ]
    },
    {
     "data": {
      "text/html": [
       "<div>\n",
       "<style>\n",
       "    .dataframe thead tr:only-child th {\n",
       "        text-align: right;\n",
       "    }\n",
       "\n",
       "    .dataframe thead th {\n",
       "        text-align: left;\n",
       "    }\n",
       "\n",
       "    .dataframe tbody tr th {\n",
       "        vertical-align: top;\n",
       "    }\n",
       "</style>\n",
       "<table border=\"1\" class=\"dataframe\">\n",
       "  <thead>\n",
       "    <tr style=\"text-align: right;\">\n",
       "      <th></th>\n",
       "      <th>City_category</th>\n",
       "      <th>Purchase</th>\n",
       "    </tr>\n",
       "  </thead>\n",
       "  <tbody>\n",
       "    <tr>\n",
       "      <th>0</th>\n",
       "      <td>A</td>\n",
       "      <td>12956687.97</td>\n",
       "    </tr>\n",
       "    <tr>\n",
       "      <th>1</th>\n",
       "      <td>B</td>\n",
       "      <td>20834316.12</td>\n",
       "    </tr>\n",
       "    <tr>\n",
       "      <th>2</th>\n",
       "      <td>C</td>\n",
       "      <td>16385679.69</td>\n",
       "    </tr>\n",
       "  </tbody>\n",
       "</table>\n",
       "</div>"
      ],
      "text/plain": [
       "  City_category     Purchase\n",
       "0             A  12956687.97\n",
       "1             B  20834316.12\n",
       "2             C  16385679.69"
      ]
     },
     "execution_count": 25,
     "metadata": {},
     "output_type": "execute_result"
    },
    {
     "data": {
      "image/png": "[encoded data removed]",
      "text/plain": [
       "<matplotlib.figure.Figure at 0x16edcaf2a20>"
      ]
     },
     "metadata": {},
     "output_type": "display_data"
    }
   ],
   "source": [
    "# City category and amount of purchase\n",
    "City=['A','B','C']\n",
    "dfa=df[df['City_Category']=='A']\n",
    "dfb=df[df['City_Category']=='B']\n",
    "dfc=df[df['City_Category']=='C']\n",
    "suma=sum(dfa['Purchase'])\n",
    "sumb=sum(dfb['Purchase'])\n",
    "sumc=sum(dfc['Purchase'])\n",
    "purchase=[suma,sumb,sumc]\n",
    "print(purchase)\n",
    "df_pur=pd.DataFrame({'City_category':City,'Purchase':purchase})\n",
    "df_pur.plot.bar(x='City_category')\n",
    "df_pur"
   ]
  },
  {
   "cell_type": "code",
   "execution_count": 26,
   "metadata": {
    "collapsed": false,
    "deletable": true,
    "editable": true
   },
   "outputs": [
    {
     "name": "stdout",
     "output_type": "stream",
     "text": [
      "[89.580110137031781, 91.986578481454188, 98.444418550160435]\n"
     ]
    },
    {
     "data": {
      "text/html": [
       "<div>\n",
       "<style>\n",
       "    .dataframe thead tr:only-child th {\n",
       "        text-align: right;\n",
       "    }\n",
       "\n",
       "    .dataframe thead th {\n",
       "        text-align: left;\n",
       "    }\n",
       "\n",
       "    .dataframe tbody tr th {\n",
       "        vertical-align: top;\n",
       "    }\n",
       "</style>\n",
       "<table border=\"1\" class=\"dataframe\">\n",
       "  <thead>\n",
       "    <tr style=\"text-align: right;\">\n",
       "      <th></th>\n",
       "      <th>City_category</th>\n",
       "      <th>Purchase</th>\n",
       "    </tr>\n",
       "  </thead>\n",
       "  <tbody>\n",
       "    <tr>\n",
       "      <th>0</th>\n",
       "      <td>A</td>\n",
       "      <td>89.580110</td>\n",
       "    </tr>\n",
       "    <tr>\n",
       "      <th>1</th>\n",
       "      <td>B</td>\n",
       "      <td>91.986578</td>\n",
       "    </tr>\n",
       "    <tr>\n",
       "      <th>2</th>\n",
       "      <td>C</td>\n",
       "      <td>98.444419</td>\n",
       "    </tr>\n",
       "  </tbody>\n",
       "</table>\n",
       "</div>"
      ],
      "text/plain": [
       "  City_category   Purchase\n",
       "0             A  89.580110\n",
       "1             B  91.986578\n",
       "2             C  98.444419"
      ]
     },
     "execution_count": 26,
     "metadata": {},
     "output_type": "execute_result"
    },
    {
     "data": {
      "image/png": "[encoded data removed]",
      "text/plain": [
       "<matplotlib.figure.Figure at 0x16edc9af588>"
      ]
     },
     "metadata": {},
     "output_type": "display_data"
    }
   ],
   "source": [
    "City=['A','B','C']\n",
    "dfa=df[df['City_Category']=='A']\n",
    "dfb=df[df['City_Category']=='B']\n",
    "dfc=df[df['City_Category']=='C']\n",
    "suma=mean(dfa['Purchase'])\n",
    "sumb=mean(dfb['Purchase'])\n",
    "sumc=mean(dfc['Purchase'])\n",
    "purchasemean=[suma,sumb,sumc]\n",
    "print(purchasemean)\n",
    "df_pur=pd.DataFrame({'City_category':City,'Purchase':purchasemean})\n",
    "df_pur.plot.bar(x='City_category')\n",
    "df_pur\n",
    "# We observed again that the means are nearly the same"
   ]
  },
  {
   "cell_type": "code",
   "execution_count": 27,
   "metadata": {
    "collapsed": false,
    "deletable": true,
    "editable": true
   },
   "outputs": [
    {
     "name": "stdout",
     "output_type": "stream",
     "text": [
      "[6725054.290000001, 17632439.170000002, 9346766.2600000016, 8725311.3000000007, 7747112.7599999998]\n"
     ]
    },
    {
     "data": {
      "text/html": [
       "<div>\n",
       "<style>\n",
       "    .dataframe thead tr:only-child th {\n",
       "        text-align: right;\n",
       "    }\n",
       "\n",
       "    .dataframe thead th {\n",
       "        text-align: left;\n",
       "    }\n",
       "\n",
       "    .dataframe tbody tr th {\n",
       "        vertical-align: top;\n",
       "    }\n",
       "</style>\n",
       "<table border=\"1\" class=\"dataframe\">\n",
       "  <thead>\n",
       "    <tr style=\"text-align: right;\">\n",
       "      <th></th>\n",
       "      <th>Purchase</th>\n",
       "      <th>years_of_stay</th>\n",
       "    </tr>\n",
       "  </thead>\n",
       "  <tbody>\n",
       "    <tr>\n",
       "      <th>0</th>\n",
       "      <td>6725054.29</td>\n",
       "      <td>0</td>\n",
       "    </tr>\n",
       "    <tr>\n",
       "      <th>1</th>\n",
       "      <td>17632439.17</td>\n",
       "      <td>1</td>\n",
       "    </tr>\n",
       "    <tr>\n",
       "      <th>2</th>\n",
       "      <td>9346766.26</td>\n",
       "      <td>2</td>\n",
       "    </tr>\n",
       "    <tr>\n",
       "      <th>3</th>\n",
       "      <td>8725311.30</td>\n",
       "      <td>3</td>\n",
       "    </tr>\n",
       "    <tr>\n",
       "      <th>4</th>\n",
       "      <td>7747112.76</td>\n",
       "      <td>4+</td>\n",
       "    </tr>\n",
       "  </tbody>\n",
       "</table>\n",
       "</div>"
      ],
      "text/plain": [
       "      Purchase years_of_stay\n",
       "0   6725054.29             0\n",
       "1  17632439.17             1\n",
       "2   9346766.26             2\n",
       "3   8725311.30             3\n",
       "4   7747112.76            4+"
      ]
     },
     "execution_count": 27,
     "metadata": {},
     "output_type": "execute_result"
    },
    {
     "data": {
      "image/png": "[encoded data removed]",
      "text/plain": [
       "<matplotlib.figure.Figure at 0x16edc418c18>"
      ]
     },
     "metadata": {},
     "output_type": "display_data"
    }
   ],
   "source": [
    "yrssty=['0','1','2','3','4+']\n",
    "pur=[]\n",
    "for i in yrssty:\n",
    "    sump=sum(df[df['Stay_In_Current_City_Years']==i]['Purchase'])\n",
    "    pur.append(sump)\n",
    "print(pur)\n",
    "df_purc=pd.DataFrame({'years_of_stay':yrssty,'Purchase':pur})\n",
    "df_purc.plot.bar(x='years_of_stay')\n",
    "df_purc"
   ]
  },
  {
   "cell_type": "markdown",
   "metadata": {
    "deletable": true,
    "editable": true
   },
   "source": [
    "# Product Category"
   ]
  },
  {
   "cell_type": "markdown",
   "metadata": {
    "deletable": true,
    "editable": true
   },
   "source": [
    "(Mostly coded by Samar)"
   ]
  },
  {
   "cell_type": "code",
   "execution_count": 28,
   "metadata": {
    "collapsed": false,
    "deletable": true,
    "editable": true
   },
   "outputs": [
    {
     "data": {
      "text/plain": [
       "<Container object of 18 artists>"
      ]
     },
     "execution_count": 28,
     "metadata": {},
     "output_type": "execute_result"
    },
    {
     "data": {
      "image/png": "[encoded data removed]",
      "text/plain": [
       "<matplotlib.figure.Figure at 0x16edc7a7e10>"
      ]
     },
     "metadata": {},
     "output_type": "display_data"
    }
   ],
   "source": [
    "counter = np.zeros_like(range(18))\n",
    "counterM = np.zeros_like(range(18))\n",
    "counterF = np.zeros_like(range(18))\n",
    "series = np.array(df['Product_Category'])\n",
    "seriesM = np.array(df[df['Gender'] == 'M']['Product_Category'])\n",
    "seriesF = np.array(df[df['Gender'] == 'F']['Product_Category'])\n",
    "for i in range(1, 19):\n",
    "    counter[i-1] = len(series[series == i])\n",
    "    counterM[i-1] = len(seriesM[seriesM == i])\n",
    "    counterF[i-1] = len(seriesF[seriesF == i])\n",
    "figure(figsize=(10,18))\n",
    "\n",
    "subplot(3,1,1)\n",
    "plt.xticks(np.arange(1, 19)) #having all values on x-axis\n",
    "plt.bar(range(1, 19), counter, color = 'orange')\n",
    "\n",
    "subplot(3,1,2)\n",
    "plt.xticks(np.arange(1, 19))\n",
    "plt.bar(range(1, 19), counterM)\n",
    "\n",
    "subplot(3,1,3)\n",
    "plt.xticks(np.arange(1, 19))\n",
    "plt.bar(range(1, 19), counterF, color = 'm')\n",
    "\n",
    "# The blue and magenta plots represent gender, we guess that category 1 is electronics while 5 is clothing and apparel\n",
    "# This guess checks out with the cost of the items, the contribution to total sales and the interest of \n",
    "# men and women in these categories\n",
    "# Additionally, men are the second most interested in product 5 (which might as well be the effect of shopping for their spouses :P)"
   ]
  },
  {
   "cell_type": "code",
   "execution_count": 29,
   "metadata": {
    "collapsed": true,
    "deletable": true,
    "editable": true
   },
   "outputs": [],
   "source": [
    "# Creating a dict of dataframes, indcategory[i] gives dataframe where product category is i.\n",
    "indcategory = {}\n",
    "for i in range(1, 19):\n",
    "    indcategory[i] = df[df['Product_Category'] == i]"
   ]
  },
  {
   "cell_type": "code",
   "execution_count": 30,
   "metadata": {
    "collapsed": false,
    "deletable": true,
    "editable": true
   },
   "outputs": [
    {
     "data": {
      "text/plain": [
       "<Container object of 18 artists>"
      ]
     },
     "execution_count": 30,
     "metadata": {},
     "output_type": "execute_result"
    },
    {
     "data": {
      "image/png": "[encoded data removed]",
      "text/plain": [
       "<matplotlib.figure.Figure at 0x16edc7ea978>"
      ]
     },
     "metadata": {},
     "output_type": "display_data"
    }
   ],
   "source": [
    "# Looking at mean sales in each category to give us an insight to the cost of products\n",
    "mean_sale = []\n",
    "for i in range(1, 19):\n",
    "    mean_sale.append(indcategory[i]['Purchase'].mean())\n",
    "plt.xticks(np.arange(1, 19))\n",
    "plt.bar(range(1, 19), mean_sale, color = 'green')"
   ]
  },
  {
   "cell_type": "code",
   "execution_count": 31,
   "metadata": {
    "collapsed": false,
    "deletable": true,
    "editable": true
   },
   "outputs": [
    {
     "data": {
      "text/plain": [
       "<Container object of 18 artists>"
      ]
     },
     "execution_count": 31,
     "metadata": {},
     "output_type": "execute_result"
    },
    {
     "data": {
      "image/png": "[encoded data removed]",
      "text/plain": [
       "<matplotlib.figure.Figure at 0x16edd7db7b8>"
      ]
     },
     "metadata": {},
     "output_type": "display_data"
    }
   ],
   "source": [
    "# Looking at net sales in each category\n",
    "net_sale = []\n",
    "for i in range(1, 19):\n",
    "    net_sale.append(indcategory[i]['Purchase'].sum())\n",
    "plt.xticks(np.arange(1, 19))\n",
    "plt.bar(range(1, 19), net_sale)"
   ]
  },
  {
   "cell_type": "markdown",
   "metadata": {
    "collapsed": true,
    "deletable": true,
    "editable": true
   },
   "source": [
    "Thus 5 is the cheapest product and also the most bought. 10 is the most expensive product.\n",
    "However, owing to a slightly higher cost and number of sales, 1 contributes the most to sales. "
   ]
  },
  {
   "cell_type": "markdown",
   "metadata": {
    "deletable": true,
    "editable": true
   },
   "source": [
    "# Watching Customers Individually"
   ]
  },
  {
   "cell_type": "code",
   "execution_count": 32,
   "metadata": {
    "collapsed": true,
    "deletable": true,
    "editable": true
   },
   "outputs": [],
   "source": [
    "# Users are numbered from 1000001 to 1006040\n",
    "# Tracking what is the total expenditure by a particular customer\n",
    "spent = {}\n",
    "for i in range(1000001, 1006041):\n",
    "    spent[i] = df[df['User_ID'] == i]['Purchase'].sum()"
   ]
  },
  {
   "cell_type": "code",
   "execution_count": 33,
   "metadata": {
    "collapsed": true,
    "deletable": true,
    "editable": true
   },
   "outputs": [],
   "source": [
    "# Writing a function to print what a customer bought\n",
    "def IsneKyaKyaKhareeda(custID):\n",
    "    if(custID in range(1000001, 1006041)):\n",
    "        dfcust = df[df['User_ID'] == custID]\n",
    "        for i in range(1, 19):\n",
    "            print('Customer spent $', dfcust[dfcust['Product_Category'] == i]['Purchase'].sum(), 'on product category', i)\n",
    "        print('Customer spent $', spent[custID], 'totally')\n",
    "    else:\n",
    "       print('Customer ID invalid')"
   ]
  },
  {
   "cell_type": "code",
   "execution_count": 34,
   "metadata": {
    "collapsed": false,
    "deletable": true,
    "editable": true
   },
   "outputs": [
    {
     "name": "stdout",
     "output_type": "stream",
     "text": [
      "Customer spent $ 189.56 on product category 1\n",
      "Customer spent $ 164.17 on product category 2\n",
      "Customer spent $ 271.41 on product category 3\n",
      "Customer spent $ 0 on product category 4\n",
      "Customer spent $ 1078.22 on product category 5\n",
      "Customer spent $ 250.28 on product category 6\n",
      "Customer spent $ 752.1 on product category 7\n",
      "Customer spent $ 872.24 on product category 8\n",
      "Customer spent $ 0 on product category 9\n",
      "Customer spent $ 700.84 on product category 10\n",
      "Customer spent $ 0 on product category 11\n",
      "Customer spent $ 48.47 on product category 12\n",
      "Customer spent $ 0 on product category 13\n",
      "Customer spent $ 187.79 on product category 14\n",
      "Customer spent $ 0 on product category 15\n",
      "Customer spent $ 0 on product category 16\n",
      "Customer spent $ 0 on product category 17\n",
      "Customer spent $ 0 on product category 18\n",
      "Customer spent $ 4515.08 totally\n"
     ]
    }
   ],
   "source": [
    "#Demonstration\n",
    "IsneKyaKyaKhareeda(1001052)"
   ]
  },
  {
   "cell_type": "markdown",
   "metadata": {
    "deletable": true,
    "editable": true
   },
   "source": [
    "There were a lot of things we could have done, but owing to time constraints (and deadline panic) we couldn't.\n",
    "\n",
    "Other than that, the assignment was a really fun activtiy for all of us.\n",
    "\n",
    "Chief takeaways :\n",
    "\n",
    "1) Write a good story when you are presenting.\n",
    "\n",
    "2) Conclude rigorously, at no point can any of us be shaky or unconfident about what we are saying.\n",
    "\n",
    "3) Clear out any confusion regarding what your plots represent.\n",
    "\n",
    "4) (ctd. from 3) Always label your axes.\n",
    "\n",
    "5) Be really careful with anonymized data and do not draw baseless conclusions."
   ]
  },
  {
   "cell_type": "markdown",
   "metadata": {
    "deletable": true,
    "editable": true
   },
   "source": [
    "# Thank You"
   ]
  }
 ],
 "metadata": {
  "kernelspec": {
   "display_name": "Python 3",
   "language": "python",
   "name": "python3"
  },
  "language_info": {
   "codemirror_mode": {
    "name": "ipython",
    "version": 3
   },
   "file_extension": ".py",
   "mimetype": "text/x-python",
   "name": "python",
   "nbconvert_exporter": "python",
   "pygments_lexer": "ipython3",
   "version": "3.5.2"
  }
 },
 "nbformat": 4,
 "nbformat_minor": 2
}
